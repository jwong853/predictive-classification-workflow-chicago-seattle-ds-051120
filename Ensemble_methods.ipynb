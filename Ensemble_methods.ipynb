{
 "cells": [
  {
   "cell_type": "code",
   "execution_count": 1,
   "metadata": {},
   "outputs": [],
   "source": [
    "%load_ext autoreload\n",
    "%autoreload 2\n",
    "\n",
    "import os\n",
    "import sys\n",
    "module_path = os.path.abspath(os.path.join(os.pardir, os.pardir))\n",
    "if module_path not in sys.path:\n",
    "    sys.path.append(module_path)"
   ]
  },
  {
   "cell_type": "code",
   "execution_count": 2,
   "metadata": {},
   "outputs": [],
   "source": [
    "import pandas as pd\n",
    "import numpy as np\n",
    "import matplotlib.pyplot as plt\n",
    "import seaborn as sns\n",
    "\n",
    "import warnings\n",
    "warnings.filterwarnings('ignore')\n",
    "\n",
    "from sklearn.pipeline import Pipeline, FeatureUnion\n",
    "from sklearn.base import BaseEstimator, TransformerMixin\n",
    "from sklearn.compose import ColumnTransformer\n",
    "\n",
    "from sklearn.metrics import confusion_matrix, plot_confusion_matrix, accuracy_score, precision_score, recall_score, f1_score\n",
    "from sklearn.model_selection import train_test_split, cross_val_score\n",
    "from sklearn.preprocessing import OneHotEncoder, StandardScaler\n",
    "\n",
    "from sklearn.tree import DecisionTreeClassifier\n",
    "from sklearn.ensemble import ExtraTreesClassifier, BaggingClassifier, RandomForestClassifier,\\\n",
    "AdaBoostClassifier, GradientBoostingClassifier\n",
    "import xgboost as xgb\n",
    "\n",
    "df = pd.read_csv(\"titanic.csv\")\n"
   ]
  },
  {
   "cell_type": "code",
   "execution_count": 3,
   "metadata": {},
   "outputs": [],
   "source": [
    "def evaluation(y, y_hat, title = 'Confusion Matrix'):\n",
    "    cm = confusion_matrix(y, y_hat)\n",
    "    precision = precision_score(y, y_hat)\n",
    "    recall = recall_score(y, y_hat)\n",
    "    accuracy = accuracy_score(y,y_hat)\n",
    "    f1 = f1_score(y,y_hat)\n",
    "    print('Recall: ', recall)\n",
    "    print('Accuracy: ', accuracy)\n",
    "    print('Precision: ', precision)\n",
    "    print('F1: ', f1)\n",
    "    print('\\n')\n",
    "    sns.heatmap(cm,  cmap= 'PuBu', annot=True, fmt='g', annot_kws=    {'size':20})\n",
    "    plt.xlabel('predicted', fontsize=18)\n",
    "    plt.ylabel('actual', fontsize=18)\n",
    "    plt.title(title, fontsize=18)\n"
   ]
  },
  {
   "cell_type": "code",
   "execution_count": 114,
   "metadata": {},
   "outputs": [
    {
     "data": {
      "text/html": [
       "<div>\n",
       "<style scoped>\n",
       "    .dataframe tbody tr th:only-of-type {\n",
       "        vertical-align: middle;\n",
       "    }\n",
       "\n",
       "    .dataframe tbody tr th {\n",
       "        vertical-align: top;\n",
       "    }\n",
       "\n",
       "    .dataframe thead th {\n",
       "        text-align: right;\n",
       "    }\n",
       "</style>\n",
       "<table border=\"1\" class=\"dataframe\">\n",
       "  <thead>\n",
       "    <tr style=\"text-align: right;\">\n",
       "      <th></th>\n",
       "      <th>Bagging Algorithms</th>\n",
       "      <th>Boosting Algorithms</th>\n",
       "    </tr>\n",
       "  </thead>\n",
       "  <tbody>\n",
       "    <tr>\n",
       "      <th>0</th>\n",
       "      <td>Bagging Classifier</td>\n",
       "      <td>AdaBoost</td>\n",
       "    </tr>\n",
       "    <tr>\n",
       "      <th>1</th>\n",
       "      <td>Random Forest</td>\n",
       "      <td>Gradient Boosting (GBM)</td>\n",
       "    </tr>\n",
       "    <tr>\n",
       "      <th>2</th>\n",
       "      <td>Extra Trees Classifier</td>\n",
       "      <td>XGBoost</td>\n",
       "    </tr>\n",
       "  </tbody>\n",
       "</table>\n",
       "</div>"
      ],
      "text/plain": [
       "       Bagging Algorithms      Boosting Algorithms\n",
       "0      Bagging Classifier                 AdaBoost\n",
       "1           Random Forest  Gradient Boosting (GBM)\n",
       "2  Extra Trees Classifier                  XGBoost"
      ]
     },
     "execution_count": 114,
     "metadata": {},
     "output_type": "execute_result"
    }
   ],
   "source": [
    "classifiers = pd.DataFrame()\n",
    "\n",
    "\n",
    "bagging = ['Bagging Classifier', 'Random Forest', 'Extra Trees Classifier']\n",
    "boosting = ['AdaBoost', 'Gradient Boosting (GBM)', 'XGBoost']\n",
    "\n",
    "classifiers['Bagging Algorithms'] = bagging\n",
    "\n",
    "classifiers['Boosting Algorithms'] = boosting\n",
    "\n",
    "classifiers"
   ]
  },
  {
   "cell_type": "code",
   "execution_count": 4,
   "metadata": {},
   "outputs": [
    {
     "name": "stdout",
     "output_type": "stream",
     "text": [
      "PassengerId    0\n",
      "Survived       0\n",
      "Pclass         0\n",
      "Age            0\n",
      "SibSp          0\n",
      "Sex            0\n",
      "Parch          0\n",
      "Fare           0\n",
      "Embarked       0\n",
      "dtype: int64\n"
     ]
    },
    {
     "data": {
      "text/html": [
       "<div>\n",
       "<style scoped>\n",
       "    .dataframe tbody tr th:only-of-type {\n",
       "        vertical-align: middle;\n",
       "    }\n",
       "\n",
       "    .dataframe tbody tr th {\n",
       "        vertical-align: top;\n",
       "    }\n",
       "\n",
       "    .dataframe thead th {\n",
       "        text-align: right;\n",
       "    }\n",
       "</style>\n",
       "<table border=\"1\" class=\"dataframe\">\n",
       "  <thead>\n",
       "    <tr style=\"text-align: right;\">\n",
       "      <th></th>\n",
       "      <th>PassengerId</th>\n",
       "      <th>Survived</th>\n",
       "      <th>Pclass</th>\n",
       "      <th>Age</th>\n",
       "      <th>SibSp</th>\n",
       "      <th>Sex</th>\n",
       "      <th>Parch</th>\n",
       "      <th>Fare</th>\n",
       "      <th>Embarked</th>\n",
       "    </tr>\n",
       "  </thead>\n",
       "  <tbody>\n",
       "    <tr>\n",
       "      <th>0</th>\n",
       "      <td>1</td>\n",
       "      <td>0</td>\n",
       "      <td>3</td>\n",
       "      <td>22.0</td>\n",
       "      <td>1</td>\n",
       "      <td>male</td>\n",
       "      <td>0</td>\n",
       "      <td>7.2500</td>\n",
       "      <td>S</td>\n",
       "    </tr>\n",
       "    <tr>\n",
       "      <th>1</th>\n",
       "      <td>2</td>\n",
       "      <td>1</td>\n",
       "      <td>1</td>\n",
       "      <td>38.0</td>\n",
       "      <td>1</td>\n",
       "      <td>female</td>\n",
       "      <td>0</td>\n",
       "      <td>71.2833</td>\n",
       "      <td>C</td>\n",
       "    </tr>\n",
       "    <tr>\n",
       "      <th>2</th>\n",
       "      <td>3</td>\n",
       "      <td>1</td>\n",
       "      <td>3</td>\n",
       "      <td>26.0</td>\n",
       "      <td>0</td>\n",
       "      <td>female</td>\n",
       "      <td>0</td>\n",
       "      <td>7.9250</td>\n",
       "      <td>S</td>\n",
       "    </tr>\n",
       "    <tr>\n",
       "      <th>3</th>\n",
       "      <td>4</td>\n",
       "      <td>1</td>\n",
       "      <td>1</td>\n",
       "      <td>35.0</td>\n",
       "      <td>1</td>\n",
       "      <td>female</td>\n",
       "      <td>0</td>\n",
       "      <td>53.1000</td>\n",
       "      <td>S</td>\n",
       "    </tr>\n",
       "    <tr>\n",
       "      <th>4</th>\n",
       "      <td>5</td>\n",
       "      <td>0</td>\n",
       "      <td>3</td>\n",
       "      <td>35.0</td>\n",
       "      <td>0</td>\n",
       "      <td>male</td>\n",
       "      <td>0</td>\n",
       "      <td>8.0500</td>\n",
       "      <td>S</td>\n",
       "    </tr>\n",
       "  </tbody>\n",
       "</table>\n",
       "</div>"
      ],
      "text/plain": [
       "   PassengerId  Survived  Pclass   Age  SibSp     Sex  Parch     Fare Embarked\n",
       "0            1         0       3  22.0      1    male      0   7.2500        S\n",
       "1            2         1       1  38.0      1  female      0  71.2833        C\n",
       "2            3         1       3  26.0      0  female      0   7.9250        S\n",
       "3            4         1       1  35.0      1  female      0  53.1000        S\n",
       "4            5         0       3  35.0      0    male      0   8.0500        S"
      ]
     },
     "execution_count": 4,
     "metadata": {},
     "output_type": "execute_result"
    }
   ],
   "source": [
    "df = df[['PassengerId', 'Survived', 'Pclass', 'Age', 'SibSp', 'Sex', 'Parch', 'Fare', 'Embarked']]\n",
    "df = df[df.Parch != 6]\n",
    "df.Embarked = df.Embarked.fillna(value='S')\n",
    "df.Age = df.Age.fillna(value=df.Age.mean())\n",
    "print(df.isna().sum())\n",
    "df.head()"
   ]
  },
  {
   "cell_type": "code",
   "execution_count": 5,
   "metadata": {},
   "outputs": [],
   "source": [
    "X = df.drop(['Survived'], axis=1)\n",
    "y = df.Survived\n",
    "X_train, X_test, y_train, y_test = train_test_split(X, y, random_state=42)"
   ]
  },
  {
   "cell_type": "code",
   "execution_count": 6,
   "metadata": {},
   "outputs": [],
   "source": [
    "numerical = ['Age', 'Fare']\n",
    "categorical = [\"Pclass\", \"Sex\",\n",
    "                       \"SibSp\", \"Parch\", \"Embarked\"]"
   ]
  },
  {
   "cell_type": "code",
   "execution_count": 7,
   "metadata": {},
   "outputs": [],
   "source": [
    "ss = Pipeline(steps=[('ss', StandardScaler())])\n",
    "ohe = Pipeline(steps=[('ohe', OneHotEncoder(drop='first'))])\n",
    "\n",
    "preprocess = ColumnTransformer(\n",
    "                    transformers=[\n",
    "                        ('cont', ss, numerical),\n",
    "                        ('cat', ohe, categorical)\n",
    "                    ])\n",
    "dtree_pipe = Pipeline(steps=[\n",
    "    ('preprocess', preprocess),\n",
    "    ('classifier', DecisionTreeClassifier())\n",
    "])"
   ]
  },
  {
   "cell_type": "code",
   "execution_count": 8,
   "metadata": {},
   "outputs": [
    {
     "data": {
      "text/plain": [
       "Pipeline(steps=[('preprocess',\n",
       "                 ColumnTransformer(transformers=[('cont',\n",
       "                                                  Pipeline(steps=[('ss',\n",
       "                                                                   StandardScaler())]),\n",
       "                                                  ['Age', 'Fare']),\n",
       "                                                 ('cat',\n",
       "                                                  Pipeline(steps=[('ohe',\n",
       "                                                                   OneHotEncoder(drop='first'))]),\n",
       "                                                  ['Pclass', 'Sex', 'SibSp',\n",
       "                                                   'Parch', 'Embarked'])])),\n",
       "                ('classifier', DecisionTreeClassifier())])"
      ]
     },
     "execution_count": 8,
     "metadata": {},
     "output_type": "execute_result"
    }
   ],
   "source": [
    "dtree_pipe.fit(X_train, y_train)"
   ]
  },
  {
   "cell_type": "code",
   "execution_count": 9,
   "metadata": {},
   "outputs": [
    {
     "name": "stdout",
     "output_type": "stream",
     "text": [
      "Train Accuracy: 0.9835082458770614\n",
      "Test Accuracy: 0.7802690582959642\n",
      "\n",
      "\n",
      "Recall:  0.6896551724137931\n",
      "Accuracy:  0.7802690582959642\n",
      "Precision:  0.7317073170731707\n",
      "F1:  0.7100591715976332\n",
      "\n",
      "\n"
     ]
    },
    {
     "data": {
      "image/png": "[encoded data removed]",
      "text/plain": [
       "<Figure size 432x288 with 2 Axes>"
      ]
     },
     "metadata": {
      "needs_background": "light"
     },
     "output_type": "display_data"
    }
   ],
   "source": [
    "train_acc = accuracy_score(y_train, dtree_pipe.predict(X_train))\n",
    "test_acc = accuracy_score(y_test, dtree_pipe.predict(X_test))\n",
    "\n",
    "print('Train Accuracy: {}'.format(train_acc))\n",
    "print('Test Accuracy: {}'.format(test_acc))\n",
    "print('\\n')\n",
    "evaluation(y_test, dtree_pipe.predict(X_test))"
   ]
  },
  {
   "cell_type": "code",
   "execution_count": null,
   "metadata": {},
   "outputs": [],
   "source": []
  },
  {
   "cell_type": "code",
   "execution_count": 10,
   "metadata": {},
   "outputs": [
    {
     "name": "stdout",
     "output_type": "stream",
     "text": [
      "Train Accuracy: 0.7886056971514243\n",
      "Test Accuracy: 0.7892376681614349\n",
      "\n",
      "\n",
      "Recall:  0.6781609195402298\n",
      "Accuracy:  0.7892376681614349\n",
      "Precision:  0.7564102564102564\n",
      "F1:  0.7151515151515151\n",
      "\n",
      "\n"
     ]
    },
    {
     "data": {
      "image/png": "[encoded data removed]",
      "text/plain": [
       "<Figure size 432x288 with 2 Axes>"
      ]
     },
     "metadata": {
      "needs_background": "light"
     },
     "output_type": "display_data"
    }
   ],
   "source": [
    "bagging_pipe = Pipeline(steps=[\n",
    "    ('preprocess', preprocess),\n",
    "    ('classifier', BaggingClassifier(n_estimators=200, max_samples=20))\n",
    "])\n",
    "\n",
    "bagging_pipe.fit(X_train, y_train)\n",
    "\n",
    "train_acc = accuracy_score(y_train, bagging_pipe.predict(X_train))\n",
    "test_acc = accuracy_score(y_test, bagging_pipe.predict(X_test))\n",
    "\n",
    "print('Train Accuracy: {}'.format(train_acc))\n",
    "print('Test Accuracy: {}'.format(test_acc))\n",
    "print('\\n')\n",
    "evaluation(y_test, bagging_pipe.predict(X_test))"
   ]
  },
  {
   "cell_type": "code",
   "execution_count": null,
   "metadata": {},
   "outputs": [],
   "source": []
  },
  {
   "cell_type": "code",
   "execution_count": 27,
   "metadata": {},
   "outputs": [
    {
     "name": "stdout",
     "output_type": "stream",
     "text": [
      "Train Accuracy: 0.8125937031484258\n",
      "Test Accuracy: 0.8116591928251121\n",
      "\n",
      "\n",
      "Recall:  0.6436781609195402\n",
      "Accuracy:  0.8116591928251121\n",
      "Precision:  0.835820895522388\n",
      "F1:  0.7272727272727273\n",
      "\n",
      "\n"
     ]
    },
    {
     "data": {
      "image/png": "[encoded data removed]",
      "text/plain": [
       "<Figure size 432x288 with 2 Axes>"
      ]
     },
     "metadata": {
      "needs_background": "light"
     },
     "output_type": "display_data"
    }
   ],
   "source": [
    "rf_pipe = Pipeline(steps=[\n",
    "    ('preprocess', preprocess),\n",
    "    ('classifier', RandomForestClassifier(n_estimators=500, max_samples=20))\n",
    "])\n",
    "\n",
    "rf_pipe.fit(X_train, y_train)\n",
    "\n",
    "train_acc = accuracy_score(y_train, rf_pipe.predict(X_train))\n",
    "test_acc = accuracy_score(y_test, rf_pipe.predict(X_test))\n",
    "\n",
    "print('Train Accuracy: {}'.format(train_acc))\n",
    "print('Test Accuracy: {}'.format(test_acc))\n",
    "print('\\n')\n",
    "evaluation(y_test, rf_pipe.predict(X_test))"
   ]
  },
  {
   "cell_type": "code",
   "execution_count": null,
   "metadata": {},
   "outputs": [],
   "source": []
  },
  {
   "cell_type": "code",
   "execution_count": 42,
   "metadata": {},
   "outputs": [
    {
     "name": "stdout",
     "output_type": "stream",
     "text": [
      "Train Accuracy: 0.8215892053973014\n",
      "Test Accuracy: 0.8161434977578476\n",
      "\n",
      "\n",
      "Recall:  0.6436781609195402\n",
      "Accuracy:  0.8161434977578476\n",
      "Precision:  0.8484848484848485\n",
      "F1:  0.7320261437908496\n",
      "\n",
      "\n"
     ]
    },
    {
     "data": {
      "image/png": "[encoded data removed]",
      "text/plain": [
       "<Figure size 432x288 with 2 Axes>"
      ]
     },
     "metadata": {
      "needs_background": "light"
     },
     "output_type": "display_data"
    }
   ],
   "source": [
    "et_pipe = Pipeline(steps=[\n",
    "    ('preprocess', preprocess),\n",
    "    ('classifier', ExtraTreesClassifier(bootstrap=True, n_estimators=400, max_samples=30))\n",
    "])\n",
    "\n",
    "et_pipe.fit(X_train, y_train)\n",
    "\n",
    "train_acc = accuracy_score(y_train, et_pipe.predict(X_train))\n",
    "test_acc = accuracy_score(y_test, et_pipe.predict(X_test))\n",
    "\n",
    "print('Train Accuracy: {}'.format(train_acc))\n",
    "print('Test Accuracy: {}'.format(test_acc))\n",
    "print('\\n')\n",
    "evaluation(y_test, et_pipe.predict(X_test))"
   ]
  },
  {
   "cell_type": "code",
   "execution_count": null,
   "metadata": {},
   "outputs": [],
   "source": []
  },
  {
   "cell_type": "code",
   "execution_count": 43,
   "metadata": {},
   "outputs": [
    {
     "name": "stdout",
     "output_type": "stream",
     "text": [
      "Train Accuracy: 0.8365817091454273\n",
      "Test Accuracy: 0.8116591928251121\n",
      "\n",
      "\n",
      "Recall:  0.7471264367816092\n",
      "Accuracy:  0.8116591928251121\n",
      "Precision:  0.7647058823529411\n",
      "F1:  0.755813953488372\n",
      "\n",
      "\n"
     ]
    },
    {
     "data": {
      "image/png": "[encoded data removed]",
      "text/plain": [
       "<Figure size 432x288 with 2 Axes>"
      ]
     },
     "metadata": {
      "needs_background": "light"
     },
     "output_type": "display_data"
    }
   ],
   "source": [
    "ada_boost_pipe = Pipeline(steps=[\n",
    "    ('preprocess', preprocess),\n",
    "    ('classifier', AdaBoostClassifier())\n",
    "])\n",
    "\n",
    "ada_boost_pipe.fit(X_train, y_train)\n",
    "\n",
    "train_acc = accuracy_score(y_train, ada_boost_pipe.predict(X_train))\n",
    "test_acc = accuracy_score(y_test, ada_boost_pipe.predict(X_test))\n",
    "\n",
    "print('Train Accuracy: {}'.format(train_acc))\n",
    "print('Test Accuracy: {}'.format(test_acc))\n",
    "print('\\n')\n",
    "evaluation(y_test, ada_boost_pipe.predict(X_test))"
   ]
  },
  {
   "cell_type": "code",
   "execution_count": null,
   "metadata": {},
   "outputs": [],
   "source": []
  },
  {
   "cell_type": "code",
   "execution_count": 112,
   "metadata": {},
   "outputs": [
    {
     "name": "stdout",
     "output_type": "stream",
     "text": [
      "Train Accuracy: 0.9085457271364318\n",
      "Test Accuracy: 0.820627802690583\n",
      "\n",
      "\n",
      "Recall:  0.7011494252873564\n",
      "Accuracy:  0.820627802690583\n",
      "Precision:  0.8133333333333334\n",
      "F1:  0.7530864197530864\n",
      "\n",
      "\n"
     ]
    },
    {
     "data": {
      "image/png": "[encoded data removed]",
      "text/plain": [
       "<Figure size 432x288 with 2 Axes>"
      ]
     },
     "metadata": {
      "needs_background": "light"
     },
     "output_type": "display_data"
    }
   ],
   "source": [
    "gbm_pipe = Pipeline(steps=[\n",
    "    ('preprocess', preprocess),\n",
    "    ('classifier', GradientBoostingClassifier(learning_rate=0.12))\n",
    "])\n",
    "\n",
    "gbm_pipe.fit(X_train, y_train)\n",
    "\n",
    "train_acc = accuracy_score(y_train, gbm_pipe.predict(X_train))\n",
    "test_acc = accuracy_score(y_test, gbm_pipe.predict(X_test))\n",
    "\n",
    "print('Train Accuracy: {}'.format(train_acc))\n",
    "print('Test Accuracy: {}'.format(test_acc))\n",
    "print('\\n')\n",
    "evaluation(y_test, gbm_pipe.predict(X_test))"
   ]
  },
  {
   "cell_type": "code",
   "execution_count": null,
   "metadata": {},
   "outputs": [],
   "source": []
  },
  {
   "cell_type": "code",
   "execution_count": 99,
   "metadata": {},
   "outputs": [
    {
     "name": "stdout",
     "output_type": "stream",
     "text": [
      "Train Accuracy: 0.9010494752623688\n",
      "Test Accuracy: 0.8385650224215246\n",
      "\n",
      "\n",
      "Recall:  0.7126436781609196\n",
      "Accuracy:  0.8385650224215246\n",
      "Precision:  0.8493150684931506\n",
      "F1:  0.7749999999999999\n",
      "\n",
      "\n"
     ]
    },
    {
     "data": {
      "image/png": "[encoded data removed]",
      "text/plain": [
       "<Figure size 432x288 with 2 Axes>"
      ]
     },
     "metadata": {
      "needs_background": "light"
     },
     "output_type": "display_data"
    }
   ],
   "source": [
    "xg_boost_pipe = Pipeline(steps=[\n",
    "    ('preprocess', preprocess),\n",
    "    ('classifier', xgb.XGBClassifier(learning_rate=0.15))\n",
    "])\n",
    "\n",
    "xg_boost_pipe.fit(X_train, y_train)\n",
    "\n",
    "train_acc = accuracy_score(y_train, xg_boost_pipe.predict(X_train))\n",
    "test_acc = accuracy_score(y_test, xg_boost_pipe.predict(X_test))\n",
    "\n",
    "print('Train Accuracy: {}'.format(train_acc))\n",
    "print('Test Accuracy: {}'.format(test_acc))\n",
    "print('\\n')\n",
    "evaluation(y_test, xg_boost_pipe.predict(X_test))"
   ]
  },
  {
   "cell_type": "code",
   "execution_count": null,
   "metadata": {},
   "outputs": [],
   "source": []
  }
 ],
 "metadata": {
  "kernelspec": {
   "display_name": "learn-env",
   "language": "python",
   "name": "learn-env"
  },
  "language_info": {
   "codemirror_mode": {
    "name": "ipython",
    "version": 3
   },
   "file_extension": ".py",
   "mimetype": "text/x-python",
   "name": "python",
   "nbconvert_exporter": "python",
   "pygments_lexer": "ipython3",
   "version": "3.6.9"
  }
 },
 "nbformat": 4,
 "nbformat_minor": 4
}
